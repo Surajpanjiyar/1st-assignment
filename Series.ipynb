{
  "nbformat": 4,
  "nbformat_minor": 0,
  "metadata": {
    "colab": {
      "provenance": [],
      "authorship_tag": "ABX9TyNOkuY/e6SEDhzv6MyFN0Gk",
      "include_colab_link": true
    },
    "kernelspec": {
      "name": "python3",
      "display_name": "Python 3"
    },
    "language_info": {
      "name": "python"
    }
  },
  "cells": [
    {
      "cell_type": "markdown",
      "metadata": {
        "id": "view-in-github",
        "colab_type": "text"
      },
      "source": [
        "<a href=\"https://colab.research.google.com/github/Surajpanjiyar/1st-assignment/blob/main/Series.ipynb\" target=\"_parent\"><img src=\"https://colab.research.google.com/assets/colab-badge.svg\" alt=\"Open In Colab\"/></a>"
      ]
    },
    {
      "cell_type": "code",
      "execution_count": null,
      "metadata": {
        "colab": {
          "base_uri": "https://localhost:8080/"
        },
        "id": "F-7AKwklYxj9",
        "outputId": "f9277713-a9a0-49f9-c4b2-e06eba157bc7"
      },
      "outputs": [
        {
          "output_type": "stream",
          "name": "stdout",
          "text": [
            "Even numbers in the series:  4\n",
            "Odd numbers in the series:  5\n"
          ]
        }
      ],
      "source": [
        "series = [1, 2, 3, 4, 5, 6, 7, 8, 9]\n",
        "\n",
        "even_nmbr, odd_nmbr = 0, 0\n",
        "\n",
        "for i in series:\n",
        "\n",
        "\tif i % 2 == 0:\n",
        "\t\teven_nmbr += 1\n",
        "\n",
        "\telse:\n",
        "\t\todd_nmbr += 1\n",
        "\n",
        "print(\"Even numbers in the series: \", even_nmbr)\n",
        "print(\"Odd numbers in the series: \", odd_nmbr)\n"
      ]
    },
    {
      "cell_type": "code",
      "source": [
        "_"
      ],
      "metadata": {
        "id": "uRVnIZqOaFtg"
      },
      "execution_count": null,
      "outputs": []
    }
  ]
}