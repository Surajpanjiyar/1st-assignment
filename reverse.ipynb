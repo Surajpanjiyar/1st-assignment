{
  "nbformat": 4,
  "nbformat_minor": 0,
  "metadata": {
    "colab": {
      "provenance": [],
      "authorship_tag": "ABX9TyNR6grc5aHI4o8kz34/nSb6",
      "include_colab_link": true
    },
    "kernelspec": {
      "name": "python3",
      "display_name": "Python 3"
    },
    "language_info": {
      "name": "python"
    }
  },
  "cells": [
    {
      "cell_type": "markdown",
      "metadata": {
        "id": "view-in-github",
        "colab_type": "text"
      },
      "source": [
        "<a href=\"https://colab.research.google.com/github/Surajpanjiyar/1st-assignment/blob/main/reverse.ipynb\" target=\"_parent\"><img src=\"https://colab.research.google.com/assets/colab-badge.svg\" alt=\"Open In Colab\"/></a>"
      ]
    },
    {
      "cell_type": "code",
      "execution_count": null,
      "metadata": {
        "colab": {
          "base_uri": "https://localhost:8080/"
        },
        "id": "1qfNDLyLXgC8",
        "outputId": "02806868-f47a-49a4-c251-803c0cc723d0"
      },
      "outputs": [
        {
          "output_type": "stream",
          "name": "stdout",
          "text": [
            "adoydE\n",
            "\n"
          ]
        }
      ],
      "source": [
        "i = \"Edyoda\"\n",
        "\n",
        "for char in range(len(i) - 1, -1, -1):\n",
        "  print(i[char], end=\"\")\n",
        "print(\"\\n\")"
      ]
    }
  ]
}